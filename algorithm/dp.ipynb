{
 "nbformat": 4,
 "nbformat_minor": 2,
 "metadata": {
  "language_info": {
   "name": "python",
   "codemirror_mode": {
    "name": "ipython",
    "version": 3
   },
   "version": "3.7.4-final"
  },
  "orig_nbformat": 2,
  "file_extension": ".py",
  "mimetype": "text/x-python",
  "name": "python",
  "npconvert_exporter": "python",
  "pygments_lexer": "ipython3",
  "version": 3,
  "kernelspec": {
   "name": "python37464bitbaseconda382e4dcbe19848d9b0183c376ab62036",
   "display_name": "Python 3.7.4 64-bit ('base': conda)"
  }
 },
 "cells": [
  {
   "cell_type": "code",
   "execution_count": 26,
   "metadata": {},
   "outputs": [
    {
     "name": "stdout",
     "output_type": "stream",
     "text": "21\n1,1,2,3,5,8,13,21\n"
    }
   ],
   "source": [
    "#coding=utf-8\n",
    "# https://mp.weixin.qq.com/s/uthpSrJIJQEpiU6g6z5FBg\n",
    "import numpy as np\n",
    "\n",
    "class fab():\n",
    "\n",
    "    def __init__(self):\n",
    "        self.his = [1,1]\n",
    "\n",
    "    def __getitem__(self, n):\n",
    "        while len(self.his) < n:\n",
    "            length = len(self.his)\n",
    "            self.his.append(self.his[length-1]+self.his[length-2])\n",
    "        return self.his[n-1]\n",
    "\n",
    "    def __str__(self):\n",
    "        return str(\",\".join([str(x) for x in self.his]))\n",
    "\n",
    "f = fab()\n",
    "print(f[8])\n",
    "print(f)\n"
   ]
  },
  {
   "cell_type": "code",
   "execution_count": 36,
   "metadata": {},
   "outputs": [
    {
     "name": "stdout",
     "output_type": "stream",
     "text": "[[0, 0, 2]]\n[[0, 0, 2], [1, 0, 3], [2, 1, 5], [3, 1, 1]]\n"
    }
   ],
   "source": [
    "#    2\n",
    "#   3 4\n",
    "#  6 5 7\n",
    "# 4 1 8 3\n",
    "\n",
    "class Path():\n",
    "    \n",
    "    def __init__(self, items):\n",
    "        self.items = np.array(items)\n",
    "        self.history = [[0, 0, items[0][0]]] # [i,j,value]\n",
    "        print(self.history)\n",
    "\n",
    "    def path(self):\n",
    "        n = 0\n",
    "        while n < self.items.shape[0]-1:\n",
    "            n += 1\n",
    "            index_i =  self.history[n-1][1]\n",
    "            self.history.append(\n",
    "                [n, index_i, self.items[n][index_i]]\n",
    "                if self.items[n][index_i] < self.items[n][index_i+1]\n",
    "                else [n, index_i+1, self.items[n][index_i+1]]\n",
    "            )\n",
    "        return self.history\n",
    "\n",
    "\n",
    "x = [[2,0,0,0],[3,4,0,0],[6,5,7,0],[4,1,8,3]]\n",
    "p = Path(x)\n",
    "print(p.path())\n"
   ]
  },
  {
   "cell_type": "code",
   "execution_count": 1,
   "metadata": {},
   "outputs": [
    {
     "ename": "SyntaxError",
     "evalue": "unexpected EOF while parsing (<ipython-input-1-a8e06167ada7>, line 20)",
     "output_type": "error",
     "traceback": [
      "\u001b[1;36m  File \u001b[1;32m\"<ipython-input-1-a8e06167ada7>\"\u001b[1;36m, line \u001b[1;32m20\u001b[0m\n\u001b[1;33m    \u001b[0m\n\u001b[1;37m    ^\u001b[0m\n\u001b[1;31mSyntaxError\u001b[0m\u001b[1;31m:\u001b[0m unexpected EOF while parsing\n"
     ]
    }
   ],
   "source": [
    "# 硬币题: 求找零最少硬币个数，否则返回-1\n",
    "coins = [1,2,5]\n",
    "amount = 11\n",
    "\n",
    "\n",
    "def solve(amount, coins):\n",
    "    path = np.array([[amount]])\n",
    "\n",
    "    def stop(path_n):\n",
    "        flag = False\n",
    "        for x in path_n:\n",
    "            if x<0 or x in [1, 2, 5]:\n",
    "                flag = True\n",
    "                break\n",
    "        return flag\n",
    "\n",
    "    while stop(path[path.shape[0]]):\n",
    "        next_layer = []\n",
    "        for x in path[path.shape[0]]:\n",
    "            "
   ]
  },
  {
   "cell_type": "code",
   "execution_count": 22,
   "metadata": {},
   "outputs": [
    {
     "name": "stdout",
     "output_type": "stream",
     "text": "0 2 1 0 15750.0\n1 2 2 1 2625.0\n2 2 3 2 750.0\n3 2 4 3 1000.0\n4 2 5 4 5000.0\n0 3 2 0 7875.0\n0 3 2 1 18000.0\n1 3 3 1 6000.0\n1 3 3 2 4375.0\n2 3 4 2 2500.0\n2 3 4 3 3750.0\n3 3 5 3 6250.0\n3 3 5 4 3500.0\n0 4 3 0 14875.0\n0 4 3 1 21000.0\n0 4 3 2 9375.0\n1 4 4 1 13000.0\n1 4 4 2 7125.0\n1 4 4 3 11375.0\n2 4 5 2 5375.0\n2 4 5 3 9500.0\n2 4 5 4 10000.0\n0 5 4 0 28125.0\n0 5 4 1 27250.0\n0 5 4 2 11875.0\n0 5 4 3 15375.0\n1 5 5 1 18500.0\n1 5 5 2 10500.0\n1 5 5 3 18125.0\n1 5 5 4 24625.0\n0 6 5 0 36750.0\n0 6 5 1 32375.0\n0 6 5 2 15125.0\n0 6 5 3 21875.0\n0 6 5 4 26875.0\n[[-1  0  0  2  2  2]\n [-1 -1  1  2  2  2]\n [-1 -1 -1  2  2  2]\n [-1 -1 -1 -1  3  4]\n [-1 -1 -1 -1 -1  4]\n [-1 -1 -1 -1 -1 -1]]\n((A_0 (A_1 A_2)) ((A_3 A_4) A_5))\n"
    }
   ],
   "source": [
    "# 矩阵链乘问题\n",
    "# 问题描述：给定矩阵链 A_1*A_2*A_3...A_n, 求乘积最少乘法量, 记矩阵维度为 {p_0, p_1, ... p_n} 共n+1个维度\n",
    "# 递归分析解的种类： 括号化结构特征解法——Catalan数 C_n = C_0*C_n + C_1*C_n-1 + ... + C_n*C_0 = 组合数(n,2n) / (n+1)\n",
    "# (1) 最优子结构: 对于任一个子序列 A_i*A_i+1*...A_j, 以k为分分界点，最优代价 C_i,j=C_i,k+ C_k+1,j + p_i-1*p_k*p_j, 子序列要求也是最优代价\n",
    "# (2) 子问题重叠性: 子结构共有 组合数(2,n)个i,j + n个划分点k = o(n**2)，递归时，低纬度子结构最优解被重复调用，综上可以用带备忘录的自底向上的表格法解决\n",
    "# (3) 构造方法: 表m[1...n, 1...n]中m[i,j]记录子序列A_i,j的代价，表s[1..n-1, 2..n]中s[i,j]记录m[i,j]对应的分割点k\n",
    "\n",
    "import numpy as np\n",
    "\n",
    "# n+1 个矩阵维度，A_i矩阵的维度=p_i*p_i+1\n",
    "p = [30,35,15,5,10,20,25]\n",
    "\n",
    "def matrix_chain_order(p):\n",
    "    # o(n**3)\n",
    "    n = len(p)-1 # 6\n",
    "    m, s = -1*np.ones((n,n)), -1*np.ones((n,n))\n",
    "    for i in range(n):\n",
    "        m[i,i] = 0\n",
    "\n",
    "    for l in range(2, n+1): # l is the chain length 2 to 6\n",
    "        for i in range(n-l+1): # 0 to 4\n",
    "            j = i + l - 1\n",
    "            for k in range(i, j): # i to j-1\n",
    "                q = m[i,k] + m[k+1,j] + p[i]*p[k+1]*p[j+1]\n",
    "                \n",
    "                print(i, l, j, k, q)\n",
    "\n",
    "                if q<m[i,j] or m[i,j]<0:\n",
    "                    m[i,j] = q\n",
    "                    s[i,j] = k\n",
    "    \n",
    "    return m, s\n",
    "\n",
    "m, s = matrix_chain_order(p)      \n",
    "\n",
    "s = s.astype(np.int16)\n",
    "print(s)\n",
    "    \n",
    "def best_path(s, i, j):\n",
    "    if i==j:\n",
    "        return 'A_%s'%(str(i))\n",
    "    \n",
    "    return '(%s %s)'%(best_path(s,i,s[i,j]), best_path(s,s[i,j]+1, j))\n",
    "\n",
    "print(best_path(s, 0, 5))\n",
    "    \n",
    "\n",
    "\n"
   ]
  },
  {
   "cell_type": "code",
   "execution_count": null,
   "metadata": {},
   "outputs": [],
   "source": []
  }
 ]
}