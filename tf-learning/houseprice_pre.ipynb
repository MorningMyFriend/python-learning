{
 "nbformat": 4,
 "nbformat_minor": 2,
 "metadata": {
  "language_info": {
   "name": "python",
   "codemirror_mode": {
    "name": "ipython",
    "version": 3
   },
   "version": "3.7.4-final"
  },
  "orig_nbformat": 2,
  "file_extension": ".py",
  "mimetype": "text/x-python",
  "name": "python",
  "npconvert_exporter": "python",
  "pygments_lexer": "ipython3",
  "version": 3,
  "kernelspec": {
   "name": "python37464bitbaseconda382e4dcbe19848d9b0183c376ab62036",
   "display_name": "Python 3.7.4 64-bit ('base': conda)"
  }
 },
 "cells": [
  {
   "cell_type": "code",
   "execution_count": 3,
   "metadata": {},
   "outputs": [
    {
     "name": "stdout",
     "output_type": "stream",
     "text": "train_data shape: (1460, 81)\ntest_data shape: (1459, 80)\n   Id  MSSubClass MSZoning SaleType SaleCondition  SalePrice\n0   1          60       RL       WD        Normal     208500\n1   2          20       RL       WD        Normal     181500\n2   3          60       RL       WD        Normal     223500\n3   4          70       RL       WD       Abnorml     140000\n"
    }
   ],
   "source": [
    "# coding=utf-8\n",
    "from __future__ import division, print_function,absolute_import, unicode_literals\n",
    "import numpy as np\n",
    "import pandas as pd\n",
    "import tensorflow as tf\n",
    "from tensorflow import keras\n",
    "from tensorflow import initializers as init\n",
    "from matplotlib import pyplot as plt\n",
    "\n",
    "train_data = pd.read_csv('data/kaggle_house/train.csv')\n",
    "test_data = pd.read_csv('data/kaggle_house/test.csv')\n",
    "\n",
    "print('train_data shape:', train_data.shape)\n",
    "print('test_data shape:', test_data.shape)\n",
    "\n",
    "print(train_data.iloc[0:4, [0,1,2,-3,-2,-1]])\n"
   ]
  },
  {
   "cell_type": "code",
   "execution_count": null,
   "metadata": {},
   "outputs": [],
   "source": []
  }
 ]
}