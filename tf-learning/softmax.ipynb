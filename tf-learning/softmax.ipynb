{
 "nbformat": 4,
 "nbformat_minor": 2,
 "metadata": {
  "language_info": {
   "name": "python",
   "codemirror_mode": {
    "name": "ipython",
    "version": 3
   },
   "version": "3.7.4-final"
  },
  "orig_nbformat": 2,
  "file_extension": ".py",
  "mimetype": "text/x-python",
  "name": "python",
  "npconvert_exporter": "python",
  "pygments_lexer": "ipython3",
  "version": 3,
  "kernelspec": {
   "name": "python37464bitbaseconda382e4dcbe19848d9b0183c376ab62036",
   "display_name": "Python 3.7.4 64-bit ('base': conda)"
  }
 },
 "cells": [
  {
   "cell_type": "code",
   "execution_count": 2,
   "metadata": {},
   "outputs": [
    {
     "name": "stdout",
     "output_type": "stream",
     "text": "load data done\n"
    }
   ],
   "source": [
    "# coding=utf-8\n",
    "from __future__ import absolute_import, division, print_function, unicode_literals\n",
    "\n",
    "# TensorFlow and tf.keras\n",
    "import tensorflow as tf\n",
    "from tensorflow import keras\n",
    "from tensorflow.keras.datasets import fashion_mnist\n",
    "import numpy as np\n",
    "\n",
    "batch_size = 3\n",
    "\n",
    "# 数据读取\n",
    "(x_train, y_train), (x_test, y_test) = fashion_mnist.load_data()\n",
    "x_train = tf.cast(x_train, tf.float32) / 255\n",
    "x_test = tf.cast(x_test, tf.float32) / 255\n",
    "train_iter = tf.data.Dataset.from_tensor_slices((x_train, y_train)).batch(batch_size)\n",
    "test_iter = tf.data.Dataset.from_tensor_slices((x_test, y_test)).batch(batch_size)\n",
    "\n",
    "print('load data done')\n",
    "\n",
    "# 图像label：共10个类别\n",
    "# 图像向量维度： 28*28*1"
   ]
  },
  {
   "cell_type": "code",
   "execution_count": 1,
   "metadata": {},
   "outputs": [
    {
     "ename": "NameError",
     "evalue": "name 'tf' is not defined",
     "output_type": "error",
     "traceback": [
      "\u001b[1;31m---------------------------------------------------------------------------\u001b[0m",
      "\u001b[1;31mNameError\u001b[0m                                 Traceback (most recent call last)",
      "\u001b[1;32m<ipython-input-1-61065ecfc01f>\u001b[0m in \u001b[0;36m<module>\u001b[1;34m\u001b[0m\n\u001b[0;32m      3\u001b[0m \u001b[0mnum_outputs\u001b[0m \u001b[1;33m=\u001b[0m \u001b[1;36m10\u001b[0m\u001b[1;33m\u001b[0m\u001b[1;33m\u001b[0m\u001b[0m\n\u001b[0;32m      4\u001b[0m \u001b[1;33m\u001b[0m\u001b[0m\n\u001b[1;32m----> 5\u001b[1;33m \u001b[0mW\u001b[0m \u001b[1;33m=\u001b[0m \u001b[0mtf\u001b[0m\u001b[1;33m.\u001b[0m\u001b[0mVariable\u001b[0m\u001b[1;33m(\u001b[0m\u001b[0mtf\u001b[0m\u001b[1;33m.\u001b[0m\u001b[0mrandom\u001b[0m\u001b[1;33m.\u001b[0m\u001b[0mnormal\u001b[0m\u001b[1;33m(\u001b[0m\u001b[0mshape\u001b[0m\u001b[1;33m=\u001b[0m\u001b[1;33m(\u001b[0m\u001b[0mnum_inputs\u001b[0m\u001b[1;33m,\u001b[0m \u001b[0mnum_outputs\u001b[0m\u001b[1;33m)\u001b[0m\u001b[1;33m,\u001b[0m \u001b[0mmean\u001b[0m\u001b[1;33m=\u001b[0m\u001b[1;36m0\u001b[0m\u001b[1;33m,\u001b[0m \u001b[0mstddev\u001b[0m\u001b[1;33m=\u001b[0m\u001b[1;36m0.01\u001b[0m\u001b[1;33m,\u001b[0m \u001b[0mdtype\u001b[0m\u001b[1;33m=\u001b[0m\u001b[0mtf\u001b[0m\u001b[1;33m.\u001b[0m\u001b[0mfloat32\u001b[0m\u001b[1;33m)\u001b[0m\u001b[1;33m)\u001b[0m\u001b[1;33m\u001b[0m\u001b[1;33m\u001b[0m\u001b[0m\n\u001b[0m\u001b[0;32m      6\u001b[0m \u001b[0mb\u001b[0m \u001b[1;33m=\u001b[0m \u001b[0mtf\u001b[0m\u001b[1;33m.\u001b[0m\u001b[0mVariable\u001b[0m\u001b[1;33m(\u001b[0m\u001b[0mtf\u001b[0m\u001b[1;33m.\u001b[0m\u001b[0mzeros\u001b[0m\u001b[1;33m(\u001b[0m\u001b[0mshape\u001b[0m\u001b[1;33m=\u001b[0m\u001b[1;33m(\u001b[0m\u001b[0mnum_outputs\u001b[0m\u001b[1;33m)\u001b[0m\u001b[1;33m,\u001b[0m\u001b[0mdtype\u001b[0m\u001b[1;33m=\u001b[0m\u001b[0mtf\u001b[0m\u001b[1;33m.\u001b[0m\u001b[0mfloat32\u001b[0m\u001b[1;33m)\u001b[0m\u001b[1;33m)\u001b[0m\u001b[1;33m\u001b[0m\u001b[1;33m\u001b[0m\u001b[0m\n\u001b[0;32m      7\u001b[0m \u001b[1;33m\u001b[0m\u001b[0m\n",
      "\u001b[1;31mNameError\u001b[0m: name 'tf' is not defined"
     ]
    }
   ],
   "source": [
    "# 初始化模型参数\n",
    "num_inputs = 28*28\n",
    "num_outputs = 10\n",
    "\n",
    "W = tf.Variable(tf.random.normal(shape=(num_inputs, num_outputs), mean=0, stddev=0.01, dtype=tf.float32))\n",
    "b = tf.Variable(tf.zeros(shape=(num_outputs),dtype=tf.float32))\n",
    "\n",
    "# softmax\n",
    "def softmax(logits, axis=-1):\n",
    "    '''\n",
    "    @logits：输入 input=Wx+b (batch_size, num_outputs)\n",
    "    @axis: -1 表示最后一个dim，就是axis=1\n",
    "    '''\n",
    "    return tf.exp(logits)/tf.reduce_sum(tf.exp(logits), axis, keepdims=True)\n",
    "\n",
    "def check_softmax():\n",
    "    x = tf.random.normal(shape=(2,5))\n",
    "    x_prob = softmax(x)\n",
    "    # print(x_prob)\n",
    "    # print(tf.reduce_sum(x_prob, axis=1), '\\nprob sum should be 1.0')\n",
    "\n",
    "# 定义模型\n",
    "with tf.device(\"CPU:0\"):\n",
    "    def net(x):\n",
    "        # x*w 维度： batch_size*num_outputs\n",
    "        logits = tf.matmul(tf.reshape(x, shape=(-1, W.shape[0])), W)\n",
    "        # 广播机制，b的维度自动补全\n",
    "        # print(logits.shape, b.shape)\n",
    "        logits += b\n",
    "        return softmax(logits)\n",
    "        # print(logits.shape)\n",
    "\n",
    "    def cross_entropy(y_hat, y):\n",
    "        '''\n",
    "        cross_entropy = -log(yi) \n",
    "        i即softmax输出的logits中最大的那个yi\n",
    "        '''\n",
    "        # y [batch_size, ] reshape to [batch_size, 1]\n",
    "        y = tf.cast(tf.reshape(y, shape=(-1,1)), dtype=tf.int32)\n",
    "                \n",
    "        # one-hot 表示: y_hat.shape = [batch_size, 10]\n",
    "        y = tf.one_hot(y, depth=y_hat.shape[-1], axis=1)\n",
    "        y = tf.cast(y, dtype=tf.int32)\n",
    "        # 从 [batch_size, 10, 1] reshape 到 [batch_size, 10] \n",
    "        y = tf.reshape(y, shape=(-1, y_hat.shape[-1]))\n",
    "        # 防止log(0) 一定要加上一个小数 1e-5, 但是太小如1e-8会得到inf\n",
    "        return -tf.math.log(tf.boolean_mask(y_hat, y) + 1e-8)\n",
    "    \n",
    "    def accuracy(y_hat, y):\n",
    "        return np.mean(tf.argmax(y,axis=1) == y)\n",
    "    \n",
    "    def evaluate_acc(data_iter, net):\n",
    "        acc_sum, n = 0.0, 0\n",
    "        for _, (x, y) in enumerate(data_iter):\n",
    "            y = tf.cast(y, dtype=tf.int64)\n",
    "            acc_sum += np.sum(tf.cast(tf.argmax(net(x), axis=1), dtype=tf.int64) == y)\n",
    "            n += y.shape[0]\n",
    "        return acc_sum / n\n",
    "\n",
    "    def train_net(net, train_iter, test_iter, loss, num_epochs, batch_size, params=None, lr=None, trainer=None):\n",
    "        for epoch in range(num_epochs):\n",
    "            train_l_sum, train_acc_sum, n = 0.0, 0.0, 0\n",
    "            for x, y in train_iter:\n",
    "                with tf.GradientTape() as tape:\n",
    "                    y_hat = net(x)\n",
    "                    cross_entropy_value = loss(y_hat, y)\n",
    "                    # reduce_sum 默认axis=None,keepdims=None,会返回一个数\n",
    "                    loss_value = tf.reduce_sum(cross_entropy_value)\n",
    "                grads = tape.gradient(loss_value, params)\n",
    "                if trainer is None:\n",
    "                    for i, param in enumerate(params):\n",
    "                        param.assign_sub(lr * grads[i] / batch_size)\n",
    "                else:\n",
    "                    trainer.applay_gradients(zip([grad.batch_size for grad in grads], params))\n",
    "\n",
    "                # evaluate\n",
    "                y = tf.cast(y, dtype=tf.float32)\n",
    "                train_l_sum += loss_value.numpy()\n",
    "                train_acc_sum += tf.reduce_sum(tf.cast(tf.argmax(y_hat, axis=1) == tf.cast(y, dtype=tf.int64), dtype=tf.int64)).numpy()\n",
    "                n += y.shape[0]\n",
    "                \n",
    "            test_acc = evaluate_acc(test_iter, net)\n",
    "            print('epoch %d, loss %.4f, train acc %.3f, test acc %.3f'%(epoch+1, train_l_sum / n, train_acc_sum/n, test_acc))\n",
    "            \n",
    "\n",
    "    lr = 0.01       \n",
    "    num_epochs = 10\n",
    "    batch_size = 4\n",
    "    trainer = tf.keras.optimizers.SGD(lr)\n",
    "    train_net(net, train_iter, test_iter, cross_entropy, num_epochs, batch_size, [W, b], lr)\n",
    "    \n",
    "\n",
    "    \n"
   ]
  },
  {
   "cell_type": "code",
   "execution_count": 52,
   "metadata": {},
   "outputs": [
    {
     "name": "stdout",
     "output_type": "stream",
     "text": "Figure(864x864) [<matplotlib.axes._subplots.AxesSubplot object at 0x00000248F1148F48>\n <matplotlib.axes._subplots.AxesSubplot object at 0x00000248F11C1FC8>\n <matplotlib.axes._subplots.AxesSubplot object at 0x00000248F2BC8F88>]\n"
    },
    {
     "data": {
      "image/png": "[encoded data removed]",
      "text/plain": "<Figure size 864x864 with 3 Axes>"
     },
     "metadata": {
      "needs_background": "light"
     },
     "output_type": "display_data"
    }
   ],
   "source": [
    "import matplotlib.pyplot as plt\n",
    "\n",
    "x,y = iter(test_iter).next()\n",
    "\n",
    "with tf.device('CPU:0'):\n",
    "\n",
    "\n",
    "    def get_labels(labels):\n",
    "        text_labels = ['t-shirt', 'trouser', 'pullover', 'dress', 'coat', 'sandal', 'shirt', 'sneaker', 'bag', 'ankle boot']\n",
    "        return [text_labels[int(i)] for i in labels]\n",
    "\n",
    "    def show_fashion_mnist(images, labels):\n",
    "        _, axes = plt.subplots(1, len(images), figsize=(12, 12))\n",
    "        print(_, axes)\n",
    "        for f, img, lbl in zip(axes, images, labels):\n",
    "            f.imshow(tf.reshape(img, shape=(28,28)).numpy())\n",
    "            f.set_title(lbl)\n",
    "            f.get_xaxis().set_visible(False)\n",
    "            # f.get_yaxis().set_visible(False)\n",
    "            \n",
    "        plt.show()\n",
    "\n",
    "    true_labels = get_labels(y.numpy())\n",
    "    pred_labels = get_labels(tf.argmax(net(x), axis=1).numpy())\n",
    "    titles = [true + '\\n' + pred for true, pred in zip(true_labels, pred_labels)]\n",
    "\n",
    "    show_fashion_mnist(x[0:9], titles[0:9])"
   ]
  }
 ]
}