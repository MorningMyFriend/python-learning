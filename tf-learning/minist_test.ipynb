{
 "nbformat": 4,
 "nbformat_minor": 2,
 "metadata": {
  "language_info": {
   "name": "python",
   "codemirror_mode": {
    "name": "ipython",
    "version": 3
   },
   "version": "3.7.4-final"
  },
  "orig_nbformat": 2,
  "file_extension": ".py",
  "mimetype": "text/x-python",
  "name": "python",
  "npconvert_exporter": "python",
  "pygments_lexer": "ipython3",
  "version": 3,
  "kernelspec": {
   "name": "python37464bitbaseconda382e4dcbe19848d9b0183c376ab62036",
   "display_name": "Python 3.7.4 64-bit ('base': conda)"
  }
 },
 "cells": [
  {
   "cell_type": "code",
   "execution_count": 1,
   "metadata": {},
   "outputs": [
    {
     "name": "stdout",
     "output_type": "stream",
     "text": "[PhysicalDevice(name='/physical_device:GPU:0', device_type='GPU')] [PhysicalDevice(name='/physical_device:CPU:0', device_type='CPU')]\nClose interactive session\n2.0.0\nGPU available： True\n"
    }
   ],
   "source": [
    "from __future__ import absolute_import, division, print_function, unicode_literals\n",
    "\n",
    "# TensorFlow and tf.keras\n",
    "import tensorflow as tf\n",
    "from tensorflow import keras\n",
    "# import tensorflow.keras.backend.tensorflow_backend.set_session\n",
    "\n",
    "\n",
    "# Helper libraries\n",
    "import numpy as np\n",
    "import matplotlib.pyplot as plt\n",
    "\n",
    "\n",
    "# GPU\n",
    "# config = tf.ConfigProto()\n",
    "# config.gpu_options.allocator_type = 'BFC' #A \"Best-fit with coalescing\" algorithm, simplified from a version of dlmalloc.\n",
    "# config.gpu_options.per_process_gpu_memory_fraction = 0.3\n",
    "# config.gpu_options.allow_growth = True\n",
    "\n",
    "\n",
    "gpus = tf.config.experimental.list_physical_devices(device_type='GPU')\n",
    "cpus = tf.config.experimental.list_physical_devices(device_type='CPU')\n",
    "print(gpus, cpus)\n",
    "\n",
    "session = tf.compat.v1.Session()\n",
    "if 'session' in locals() and session is not None:\n",
    "    print('Close interactive session')\n",
    "    session.close()\n",
    "\n",
    "# GPU 自动分配显存\n",
    "for gpu in gpus:\n",
    "    tf.config.experimental.set_memory_growth(gpu, True)\n",
    "\n",
    "# # GPU 显存限制\n",
    "# tf.config.experimental.set_virtual_device_configuration(\n",
    "#     gpus[0],\n",
    "#     [tf.config.experimental.VirtualDeviceConfiguration(memory_limit=2048)])\n",
    "\n",
    "# # GPU 模拟多GPU\n",
    "# tf.config.experimental.set_virtual_device_configuration(\n",
    "#     gpus[0],\n",
    "#     [tf.config.experimental.VirtualDeviceConfiguration(memory_limit=2048),\n",
    "#      tf.config.experimental.VirtualDeviceConfiguration(memory_limit=2048)])\n",
    "\n",
    "\n",
    "print(tf.__version__)\n",
    "print('GPU available：',tf.test.is_gpu_available())\n",
    "\n",
    "# load minist\n",
    "# 离线下载，拷贝至 C:\\Users\\<user>\\.keras\\datasets\\fashion_mnist\n",
    "fashion_mnist = keras.datasets.fashion_mnist\n",
    "(train_images, train_labels), (test_images, test_labels) = fashion_mnist.load_data()\n"
   ]
  },
  {
   "cell_type": "code",
   "execution_count": 2,
   "metadata": {},
   "outputs": [
    {
     "name": "stdout",
     "output_type": "stream",
     "text": "(60000, 28, 28)\n(10000, 28, 28)\n60000\n"
    },
    {
     "data": {
      "image/png": "[encoded data removed]",
      "image/svg+xml": "<?xml version=\"1.0\" encoding=\"utf-8\" standalone=\"no\"?>\r\n<!DOCTYPE svg PUBLIC \"-//W3C//DTD SVG 1.1//EN\"\r\n  \"http://www.w3.org/Graphics/SVG/1.1/DTD/svg11.dtd\">\r\n<!-- Created with matplotlib (https://matplotlib.org/) -->\r\n<svg height=\"248.518125pt\" version=\"1.1\" viewBox=\"0 0 305.2645 248.518125\" width=\"305.2645pt\" xmlns=\"http://www.w3.org/2000/svg\" xmlns:xlink=\"http://www.w3.org/1999/xlink\">\r\n <defs>\r\n  <style type=\"text/css\">\r\n*{stroke-linecap:butt;stroke-linejoin:round;}\r\n  </style>\r\n </defs>\r\n <g id=\"figure_1\">\r\n  <g id=\"patch_1\">\r\n   <path d=\"M 0 248.518125 \r\nL 305.2645 248.518125 \r\nL 305.2645 0 \r\nL 0 0 \r\nz\r\n\" style=\"fill:none;\"/>\r\n  </g>\r\n  <g id=\"axes_1\">\r\n   <g id=\"patch_2\">\r\n    <path d=\"M 26.925 224.64 \r\nL 244.365 224.64 \r\nL 244.365 7.2 \r\nL 26.925 7.2 \r\nz\r\n\" style=\"fill:#ffffff;\"/>\r\n   </g>\r\n   <g clip-path=\"url(#p7ddfc16497)\">\r\n    <image height=\"218\" id=\"image8b60fee2c0\" transform=\"scale(1 -1)translate(0 -218)\" width=\"218\" x=\"26.925\" xlink:href=\"data:image/png;base64,\r\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\" y=\"-6.64\"/>\r\n   </g>\r\n   <g id=\"matplotlib.axis_1\">\r\n    <g id=\"xtick_1\">\r\n     <g id=\"line2d_1\">\r\n      <defs>\r\n       <path d=\"M 0 0 \r\nL 0 3.5 \r\n\" id=\"mf40d91aa99\" style=\"stroke:#000000;stroke-width:0.8;\"/>\r\n      </defs>\r\n      <g>\r\n       <use style=\"stroke:#000000;stroke-width:0.8;\" x=\"30.807857\" xlink:href=\"#mf40d91aa99\" y=\"224.64\"/>\r\n      </g>\r\n     </g>\r\n     <g id=\"text_1\">\r\n      <!-- 0 -->\r\n      <defs>\r\n       <path d=\"M 31.78125 66.40625 \r\nQ 24.171875 66.40625 20.328125 58.90625 \r\nQ 16.5 51.421875 16.5 36.375 \r\nQ 16.5 21.390625 20.328125 13.890625 \r\nQ 24.171875 6.390625 31.78125 6.390625 \r\nQ 39.453125 6.390625 43.28125 13.890625 \r\nQ 47.125 21.390625 47.125 36.375 \r\nQ 47.125 51.421875 43.28125 58.90625 \r\nQ 39.453125 66.40625 31.78125 66.40625 \r\nz\r\nM 31.78125 74.21875 \r\nQ 44.046875 74.21875 50.515625 64.515625 \r\nQ 56.984375 54.828125 56.984375 36.375 \r\nQ 56.984375 17.96875 50.515625 8.265625 \r\nQ 44.046875 -1.421875 31.78125 -1.421875 \r\nQ 19.53125 -1.421875 13.0625 8.265625 \r\nQ 6.59375 17.96875 6.59375 36.375 \r\nQ 6.59375 54.828125 13.0625 64.515625 \r\nQ 19.53125 74.21875 31.78125 74.21875 \r\nz\r\n\" id=\"DejaVuSans-48\"/>\r\n      </defs>\r\n      <g transform=\"translate(27.626607 239.238437)scale(0.1 -0.1)\">\r\n       <use xlink:href=\"#DejaVuSans-48\"/>\r\n      </g>\r\n     </g>\r\n    </g>\r\n    <g id=\"xtick_2\">\r\n     <g id=\"line2d_2\">\r\n      <g>\r\n       <use style=\"stroke:#000000;stroke-width:0.8;\" x=\"69.636429\" xlink:href=\"#mf40d91aa99\" y=\"224.64\"/>\r\n      </g>\r\n     </g>\r\n     <g id=\"text_2\">\r\n      <!-- 5 -->\r\n      <defs>\r\n       <path d=\"M 10.796875 72.90625 \r\nL 49.515625 72.90625 \r\nL 49.515625 64.59375 \r\nL 19.828125 64.59375 \r\nL 19.828125 46.734375 \r\nQ 21.96875 47.46875 24.109375 47.828125 \r\nQ 26.265625 48.1875 28.421875 48.1875 \r\nQ 40.625 48.1875 47.75 41.5 \r\nQ 54.890625 34.8125 54.890625 23.390625 \r\nQ 54.890625 11.625 47.5625 5.09375 \r\nQ 40.234375 -1.421875 26.90625 -1.421875 \r\nQ 22.3125 -1.421875 17.546875 -0.640625 \r\nQ 12.796875 0.140625 7.71875 1.703125 \r\nL 7.71875 11.625 \r\nQ 12.109375 9.234375 16.796875 8.0625 \r\nQ 21.484375 6.890625 26.703125 6.890625 \r\nQ 35.15625 6.890625 40.078125 11.328125 \r\nQ 45.015625 15.765625 45.015625 23.390625 \r\nQ 45.015625 31 40.078125 35.4375 \r\nQ 35.15625 39.890625 26.703125 39.890625 \r\nQ 22.75 39.890625 18.8125 39.015625 \r\nQ 14.890625 38.140625 10.796875 36.28125 \r\nz\r\n\" id=\"DejaVuSans-53\"/>\r\n      </defs>\r\n      <g transform=\"translate(66.455179 239.238437)scale(0.1 -0.1)\">\r\n       <use xlink:href=\"#DejaVuSans-53\"/>\r\n      </g>\r\n     </g>\r\n    </g>\r\n    <g id=\"xtick_3\">\r\n     <g id=\"line2d_3\">\r\n      <g>\r\n       <use style=\"stroke:#000000;stroke-width:0.8;\" x=\"108.465\" xlink:href=\"#mf40d91aa99\" y=\"224.64\"/>\r\n      </g>\r\n     </g>\r\n     <g id=\"text_3\">\r\n      <!-- 10 -->\r\n      <defs>\r\n       <path d=\"M 12.40625 8.296875 \r\nL 28.515625 8.296875 \r\nL 28.515625 63.921875 \r\nL 10.984375 60.40625 \r\nL 10.984375 69.390625 \r\nL 28.421875 72.90625 \r\nL 38.28125 72.90625 \r\nL 38.28125 8.296875 \r\nL 54.390625 8.296875 \r\nL 54.390625 0 \r\nL 12.40625 0 \r\nz\r\n\" id=\"DejaVuSans-49\"/>\r\n      </defs>\r\n      <g transform=\"translate(102.1025 239.238437)scale(0.1 -0.1)\">\r\n       <use xlink:href=\"#DejaVuSans-49\"/>\r\n       <use x=\"63.623047\" xlink:href=\"#DejaVuSans-48\"/>\r\n      </g>\r\n     </g>\r\n    </g>\r\n    <g id=\"xtick_4\">\r\n     <g id=\"line2d_4\">\r\n      <g>\r\n       <use style=\"stroke:#000000;stroke-width:0.8;\" x=\"147.293571\" xlink:href=\"#mf40d91aa99\" y=\"224.64\"/>\r\n      </g>\r\n     </g>\r\n     <g id=\"text_4\">\r\n      <!-- 15 -->\r\n      <g transform=\"translate(140.931071 239.238437)scale(0.1 -0.1)\">\r\n       <use xlink:href=\"#DejaVuSans-49\"/>\r\n       <use x=\"63.623047\" xlink:href=\"#DejaVuSans-53\"/>\r\n      </g>\r\n     </g>\r\n    </g>\r\n    <g id=\"xtick_5\">\r\n     <g id=\"line2d_5\">\r\n      <g>\r\n       <use style=\"stroke:#000000;stroke-width:0.8;\" x=\"186.122143\" xlink:href=\"#mf40d91aa99\" y=\"224.64\"/>\r\n      </g>\r\n     </g>\r\n     <g id=\"text_5\">\r\n      <!-- 20 -->\r\n      <defs>\r\n       <path d=\"M 19.1875 8.296875 \r\nL 53.609375 8.296875 \r\nL 53.609375 0 \r\nL 7.328125 0 \r\nL 7.328125 8.296875 \r\nQ 12.9375 14.109375 22.625 23.890625 \r\nQ 32.328125 33.6875 34.8125 36.53125 \r\nQ 39.546875 41.84375 41.421875 45.53125 \r\nQ 43.3125 49.21875 43.3125 52.78125 \r\nQ 43.3125 58.59375 39.234375 62.25 \r\nQ 35.15625 65.921875 28.609375 65.921875 \r\nQ 23.96875 65.921875 18.8125 64.3125 \r\nQ 13.671875 62.703125 7.8125 59.421875 \r\nL 7.8125 69.390625 \r\nQ 13.765625 71.78125 18.9375 73 \r\nQ 24.125 74.21875 28.421875 74.21875 \r\nQ 39.75 74.21875 46.484375 68.546875 \r\nQ 53.21875 62.890625 53.21875 53.421875 \r\nQ 53.21875 48.921875 51.53125 44.890625 \r\nQ 49.859375 40.875 45.40625 35.40625 \r\nQ 44.1875 33.984375 37.640625 27.21875 \r\nQ 31.109375 20.453125 19.1875 8.296875 \r\nz\r\n\" id=\"DejaVuSans-50\"/>\r\n      </defs>\r\n      <g transform=\"translate(179.759643 239.238437)scale(0.1 -0.1)\">\r\n       <use xlink:href=\"#DejaVuSans-50\"/>\r\n       <use x=\"63.623047\" xlink:href=\"#DejaVuSans-48\"/>\r\n      </g>\r\n     </g>\r\n    </g>\r\n    <g id=\"xtick_6\">\r\n     <g id=\"line2d_6\">\r\n      <g>\r\n       <use style=\"stroke:#000000;stroke-width:0.8;\" x=\"224.950714\" xlink:href=\"#mf40d91aa99\" y=\"224.64\"/>\r\n      </g>\r\n     </g>\r\n     <g id=\"text_6\">\r\n      <!-- 25 -->\r\n      <g transform=\"translate(218.588214 239.238437)scale(0.1 -0.1)\">\r\n       <use xlink:href=\"#DejaVuSans-50\"/>\r\n       <use x=\"63.623047\" xlink:href=\"#DejaVuSans-53\"/>\r\n      </g>\r\n     </g>\r\n    </g>\r\n   </g>\r\n   <g id=\"matplotlib.axis_2\">\r\n    <g id=\"ytick_1\">\r\n     <g id=\"line2d_7\">\r\n      <defs>\r\n       <path d=\"M 0 0 \r\nL -3.5 0 \r\n\" id=\"m11df4d02f2\" style=\"stroke:#000000;stroke-width:0.8;\"/>\r\n      </defs>\r\n      <g>\r\n       <use style=\"stroke:#000000;stroke-width:0.8;\" x=\"26.925\" xlink:href=\"#m11df4d02f2\" y=\"11.082857\"/>\r\n      </g>\r\n     </g>\r\n     <g id=\"text_7\">\r\n      <!-- 0 -->\r\n      <g transform=\"translate(13.5625 14.882076)scale(0.1 -0.1)\">\r\n       <use xlink:href=\"#DejaVuSans-48\"/>\r\n      </g>\r\n     </g>\r\n    </g>\r\n    <g id=\"ytick_2\">\r\n     <g id=\"line2d_8\">\r\n      <g>\r\n       <use style=\"stroke:#000000;stroke-width:0.8;\" x=\"26.925\" xlink:href=\"#m11df4d02f2\" y=\"49.911429\"/>\r\n      </g>\r\n     </g>\r\n     <g id=\"text_8\">\r\n      <!-- 5 -->\r\n      <g transform=\"translate(13.5625 53.710647)scale(0.1 -0.1)\">\r\n       <use xlink:href=\"#DejaVuSans-53\"/>\r\n      </g>\r\n     </g>\r\n    </g>\r\n    <g id=\"ytick_3\">\r\n     <g id=\"line2d_9\">\r\n      <g>\r\n       <use style=\"stroke:#000000;stroke-width:0.8;\" x=\"26.925\" xlink:href=\"#m11df4d02f2\" y=\"88.74\"/>\r\n      </g>\r\n     </g>\r\n     <g id=\"text_9\">\r\n      <!-- 10 -->\r\n      <g transform=\"translate(7.2 92.539219)scale(0.1 -0.1)\">\r\n       <use xlink:href=\"#DejaVuSans-49\"/>\r\n       <use x=\"63.623047\" xlink:href=\"#DejaVuSans-48\"/>\r\n      </g>\r\n     </g>\r\n    </g>\r\n    <g id=\"ytick_4\">\r\n     <g id=\"line2d_10\">\r\n      <g>\r\n       <use style=\"stroke:#000000;stroke-width:0.8;\" x=\"26.925\" xlink:href=\"#m11df4d02f2\" y=\"127.568571\"/>\r\n      </g>\r\n     </g>\r\n     <g id=\"text_10\">\r\n      <!-- 15 -->\r\n      <g transform=\"translate(7.2 131.36779)scale(0.1 -0.1)\">\r\n       <use xlink:href=\"#DejaVuSans-49\"/>\r\n       <use x=\"63.623047\" xlink:href=\"#DejaVuSans-53\"/>\r\n      </g>\r\n     </g>\r\n    </g>\r\n    <g id=\"ytick_5\">\r\n     <g id=\"line2d_11\">\r\n      <g>\r\n       <use style=\"stroke:#000000;stroke-width:0.8;\" x=\"26.925\" xlink:href=\"#m11df4d02f2\" y=\"166.397143\"/>\r\n      </g>\r\n     </g>\r\n     <g id=\"text_11\">\r\n      <!-- 20 -->\r\n      <g transform=\"translate(7.2 170.196362)scale(0.1 -0.1)\">\r\n       <use xlink:href=\"#DejaVuSans-50\"/>\r\n       <use x=\"63.623047\" xlink:href=\"#DejaVuSans-48\"/>\r\n      </g>\r\n     </g>\r\n    </g>\r\n    <g id=\"ytick_6\">\r\n     <g id=\"line2d_12\">\r\n      <g>\r\n       <use style=\"stroke:#000000;stroke-width:0.8;\" x=\"26.925\" xlink:href=\"#m11df4d02f2\" y=\"205.225714\"/>\r\n      </g>\r\n     </g>\r\n     <g id=\"text_12\">\r\n      <!-- 25 -->\r\n      <g transform=\"translate(7.2 209.024933)scale(0.1 -0.1)\">\r\n       <use xlink:href=\"#DejaVuSans-50\"/>\r\n       <use x=\"63.623047\" xlink:href=\"#DejaVuSans-53\"/>\r\n      </g>\r\n     </g>\r\n    </g>\r\n   </g>\r\n   <g id=\"patch_3\">\r\n    <path d=\"M 26.925 224.64 \r\nL 26.925 7.2 \r\n\" style=\"fill:none;stroke:#000000;stroke-linecap:square;stroke-linejoin:miter;stroke-width:0.8;\"/>\r\n   </g>\r\n   <g id=\"patch_4\">\r\n    <path d=\"M 244.365 224.64 \r\nL 244.365 7.2 \r\n\" style=\"fill:none;stroke:#000000;stroke-linecap:square;stroke-linejoin:miter;stroke-width:0.8;\"/>\r\n   </g>\r\n   <g id=\"patch_5\">\r\n    <path d=\"M 26.925 224.64 \r\nL 244.365 224.64 \r\n\" style=\"fill:none;stroke:#000000;stroke-linecap:square;stroke-linejoin:miter;stroke-width:0.8;\"/>\r\n   </g>\r\n   <g id=\"patch_6\">\r\n    <path d=\"M 26.925 7.2 \r\nL 244.365 7.2 \r\n\" style=\"fill:none;stroke:#000000;stroke-linecap:square;stroke-linejoin:miter;stroke-width:0.8;\"/>\r\n   </g>\r\n  </g>\r\n  <g id=\"axes_2\">\r\n   <g id=\"patch_7\">\r\n    <path clip-path=\"url(#p72c34ecb95)\" d=\"M 261.105 224.64 \r\nL 261.105 223.790625 \r\nL 261.105 8.049375 \r\nL 261.105 7.2 \r\nL 271.977 7.2 \r\nL 271.977 8.049375 \r\nL 271.977 223.790625 \r\nL 271.977 224.64 \r\nz\r\n\" style=\"fill:#ffffff;stroke:#ffffff;stroke-linejoin:miter;stroke-width:0.01;\"/>\r\n   </g>\r\n   <image height=\"217\" id=\"image18cfe580e4\" transform=\"scale(1 -1)translate(0 -217)\" width=\"11\" x=\"261\" xlink:href=\"data:image/png;base64,\r\niVBORw0KGgoAAAANSUhEUgAAAAsAAADZCAYAAAD2WsoCAAAABHNCSVQICAgIfAhkiAAAAUhJREFUaIHdmsENAjEMBGM7R2XUQP+NQGjB8xjJd7yt1e6sQ9Bx8c7PWc3Pjozu7Norsj/MlKuIDaAcCTwj5aUpB6LBGtSGh3AWaWg2RHQWjcNstGdNGqJn7VidmtFgf9YMeDQbKKC3SIccWI8GVAbDcJ+J8h1piHUjG5qyRsPcDUvZ5HxDdDO2boqyR6M/iy96YgPdg5qN59f9eHQ3DOjVvaJ/vsegux8N4JgHBJ69UkTOM2iAn0huKV7AEcrgORmkwWzMQJdiQIuG5zmTDHs2loWu8gdseAFFGmB4azS8gJ4NRkP0bJWymTIYLrFui8YVX0kZ0rACFlG+ktAgDZa3dcQGrBvZGNEg4sxoMBtWQFTKSwyo7YZ2rK4FaMCA1j3Ilp99FXgB27NUuS+89ov83YCUiymD4SLDSPkK8LoO80zeOUnwkOoPXoiBaF8nrs8AAAAASUVORK5CYII=\" y=\"-7\"/>\r\n   <g id=\"matplotlib.axis_3\"/>\r\n   <g id=\"matplotlib.axis_4\">\r\n    <g id=\"ytick_7\">\r\n     <g id=\"line2d_13\">\r\n      <defs>\r\n       <path d=\"M 0 0 \r\nL 3.5 0 \r\n\" id=\"m00f3755484\" style=\"stroke:#000000;stroke-width:0.8;\"/>\r\n      </defs>\r\n      <g>\r\n       <use style=\"stroke:#000000;stroke-width:0.8;\" x=\"271.977\" xlink:href=\"#m00f3755484\" y=\"224.64\"/>\r\n      </g>\r\n     </g>\r\n     <g id=\"text_13\">\r\n      <!-- 0 -->\r\n      <g transform=\"translate(278.977 228.439219)scale(0.1 -0.1)\">\r\n       <use xlink:href=\"#DejaVuSans-48\"/>\r\n      </g>\r\n     </g>\r\n    </g>\r\n    <g id=\"ytick_8\">\r\n     <g id=\"line2d_14\">\r\n      <g>\r\n       <use style=\"stroke:#000000;stroke-width:0.8;\" x=\"271.977\" xlink:href=\"#m00f3755484\" y=\"182.004706\"/>\r\n      </g>\r\n     </g>\r\n     <g id=\"text_14\">\r\n      <!-- 50 -->\r\n      <g transform=\"translate(278.977 185.803925)scale(0.1 -0.1)\">\r\n       <use xlink:href=\"#DejaVuSans-53\"/>\r\n       <use x=\"63.623047\" xlink:href=\"#DejaVuSans-48\"/>\r\n      </g>\r\n     </g>\r\n    </g>\r\n    <g id=\"ytick_9\">\r\n     <g id=\"line2d_15\">\r\n      <g>\r\n       <use style=\"stroke:#000000;stroke-width:0.8;\" x=\"271.977\" xlink:href=\"#m00f3755484\" y=\"139.369412\"/>\r\n      </g>\r\n     </g>\r\n     <g id=\"text_15\">\r\n      <!-- 100 -->\r\n      <g transform=\"translate(278.977 143.168631)scale(0.1 -0.1)\">\r\n       <use xlink:href=\"#DejaVuSans-49\"/>\r\n       <use x=\"63.623047\" xlink:href=\"#DejaVuSans-48\"/>\r\n       <use x=\"127.246094\" xlink:href=\"#DejaVuSans-48\"/>\r\n      </g>\r\n     </g>\r\n    </g>\r\n    <g id=\"ytick_10\">\r\n     <g id=\"line2d_16\">\r\n      <g>\r\n       <use style=\"stroke:#000000;stroke-width:0.8;\" x=\"271.977\" xlink:href=\"#m00f3755484\" y=\"96.734118\"/>\r\n      </g>\r\n     </g>\r\n     <g id=\"text_16\">\r\n      <!-- 150 -->\r\n      <g transform=\"translate(278.977 100.533336)scale(0.1 -0.1)\">\r\n       <use xlink:href=\"#DejaVuSans-49\"/>\r\n       <use x=\"63.623047\" xlink:href=\"#DejaVuSans-53\"/>\r\n       <use x=\"127.246094\" xlink:href=\"#DejaVuSans-48\"/>\r\n      </g>\r\n     </g>\r\n    </g>\r\n    <g id=\"ytick_11\">\r\n     <g id=\"line2d_17\">\r\n      <g>\r\n       <use style=\"stroke:#000000;stroke-width:0.8;\" x=\"271.977\" xlink:href=\"#m00f3755484\" y=\"54.098824\"/>\r\n      </g>\r\n     </g>\r\n     <g id=\"text_17\">\r\n      <!-- 200 -->\r\n      <g transform=\"translate(278.977 57.898042)scale(0.1 -0.1)\">\r\n       <use xlink:href=\"#DejaVuSans-50\"/>\r\n       <use x=\"63.623047\" xlink:href=\"#DejaVuSans-48\"/>\r\n       <use x=\"127.246094\" xlink:href=\"#DejaVuSans-48\"/>\r\n      </g>\r\n     </g>\r\n    </g>\r\n    <g id=\"ytick_12\">\r\n     <g id=\"line2d_18\">\r\n      <g>\r\n       <use style=\"stroke:#000000;stroke-width:0.8;\" x=\"271.977\" xlink:href=\"#m00f3755484\" y=\"11.463529\"/>\r\n      </g>\r\n     </g>\r\n     <g id=\"text_18\">\r\n      <!-- 250 -->\r\n      <g transform=\"translate(278.977 15.262748)scale(0.1 -0.1)\">\r\n       <use xlink:href=\"#DejaVuSans-50\"/>\r\n       <use x=\"63.623047\" xlink:href=\"#DejaVuSans-53\"/>\r\n       <use x=\"127.246094\" xlink:href=\"#DejaVuSans-48\"/>\r\n      </g>\r\n     </g>\r\n    </g>\r\n   </g>\r\n   <g id=\"patch_8\">\r\n    <path d=\"M 261.105 224.64 \r\nL 261.105 223.790625 \r\nL 261.105 8.049375 \r\nL 261.105 7.2 \r\nL 271.977 7.2 \r\nL 271.977 8.049375 \r\nL 271.977 223.790625 \r\nL 271.977 224.64 \r\nz\r\n\" style=\"fill:none;stroke:#000000;stroke-linejoin:miter;stroke-width:0.8;\"/>\r\n   </g>\r\n  </g>\r\n </g>\r\n <defs>\r\n  <clipPath id=\"p7ddfc16497\">\r\n   <rect height=\"217.44\" width=\"217.44\" x=\"26.925\" y=\"7.2\"/>\r\n  </clipPath>\r\n  <clipPath id=\"p72c34ecb95\">\r\n   <rect height=\"217.44\" width=\"10.872\" x=\"261.105\" y=\"7.2\"/>\r\n  </clipPath>\r\n </defs>\r\n</svg>\r\n",
      "text/plain": "<Figure size 432x288 with 2 Axes>"
     },
     "metadata": {
      "needs_background": "light"
     },
     "output_type": "display_data"
    },
    {
     "data": {
      "text/plain": "<Figure size 720x720 with 0 Axes>"
     },
     "execution_count": 2,
     "metadata": {},
     "output_type": "execute_result"
    },
    {
     "data": {
      "text/plain": "<Figure size 720x720 with 0 Axes>"
     },
     "metadata": {},
     "output_type": "display_data"
    }
   ],
   "source": [
    "# mnist\n",
    "class_names = ['T-shirt/top', 'Trouser', 'Pullover', 'Dress', 'Coat',\n",
    "               'Sandal', 'Shirt', 'Sneaker', 'Bag', 'Ankle boot']\n",
    "\n",
    "print(train_images.shape) # (60000, 28, 28)\n",
    "print(test_images.shape) # (10000, 28, 28)\n",
    "print(len(train_labels)) # 60000\n",
    "\n",
    "plt.figure()\n",
    "plt.imshow(train_images[0])\n",
    "plt.colorbar()\n",
    "plt.grid(False)\n",
    "plt.show()\n",
    "\n",
    "train_images = train_images / 255.0\n",
    "test_images = test_images / 255.0\n",
    "\n",
    "plt.figure(figsize=(10,10))"
   ]
  },
  {
   "cell_type": "code",
   "execution_count": 3,
   "metadata": {},
   "outputs": [
    {
     "name": "stdout",
     "output_type": "stream",
     "text": "Model: \"sequential\"\n_________________________________________________________________\nLayer (type)                 Output Shape              Param #   \n=================================================================\nflatten (Flatten)            (None, 784)               0         \n_________________________________________________________________\ndense (Dense)                (None, 128)               100480    \n_________________________________________________________________\ndropout (Dropout)            (None, 128)               0         \n_________________________________________________________________\ndense_1 (Dense)              (None, 10)                1290      \n=================================================================\nTotal params: 101,770\nTrainable params: 101,770\nNon-trainable params: 0\n_________________________________________________________________\n"
    }
   ],
   "source": [
    "model = tf.keras.models.Sequential([\n",
    "  tf.keras.layers.Flatten(input_shape=(28, 28)),\n",
    "  tf.keras.layers.Dense(128, activation='relu'),\n",
    "  tf.keras.layers.Dropout(0.2),\n",
    "  tf.keras.layers.Dense(10, activation='softmax')\n",
    "])\n",
    "\n",
    "model.compile(optimizer='adam',\n",
    "              loss='sparse_categorical_crossentropy',\n",
    "              metrics=['accuracy'])\n",
    "\n",
    "model.summary()"
   ]
  },
  {
   "cell_type": "code",
   "execution_count": 5,
   "metadata": {},
   "outputs": [],
   "source": [
    "with tf.device(\"GPU:0\"):   \n",
    "    model.fit(train_images, train_labels, \n",
    "                batch_size=1,\n",
    "                epochs=10,\n",
    "                shuffle=True,\n",
    "                initial_epoch=0\n",
    "                # workers=4,\n",
    "                # use_multiprocessing=False\n",
    "                )\n",
    "\n",
    "# model.evaluate(test_images,  test_labels, verbose=2)"
   ]
  }
 ]
}